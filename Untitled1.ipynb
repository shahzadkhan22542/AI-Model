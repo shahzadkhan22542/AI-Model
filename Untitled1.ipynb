{
  "nbformat": 4,
  "nbformat_minor": 0,
  "metadata": {
    "colab": {
      "provenance": []
    },
    "kernelspec": {
      "name": "python3",
      "display_name": "Python 3"
    },
    "language_info": {
      "name": "python"
    }
  },
  "cells": [
    {
      "cell_type": "code",
      "execution_count": 4,
      "metadata": {
        "colab": {
          "base_uri": "https://localhost:8080/",
          "height": 646
        },
        "id": "3b2jWSAOiAP1",
        "outputId": "c01a4ef3-fc23-47a9-a903-52964d986752"
      },
      "outputs": [
        {
          "output_type": "stream",
          "name": "stdout",
          "text": [
            "It looks like you are running Gradio on a hosted a Jupyter notebook. For the Gradio app to work, sharing must be enabled. Automatically setting `share=True` (you can turn this off by setting `share=False` in `launch()` explicitly).\n",
            "\n",
            "Colab notebook detected. To show errors in colab notebook, set debug=True in launch()\n",
            "* Running on public URL: https://cb3f72207fb3c40ce0.gradio.live\n",
            "\n",
            "This share link expires in 1 week. For free permanent hosting and GPU upgrades, run `gradio deploy` from the terminal in the working directory to deploy to Hugging Face Spaces (https://huggingface.co/spaces)\n"
          ]
        },
        {
          "output_type": "display_data",
          "data": {
            "text/plain": [
              "<IPython.core.display.HTML object>"
            ],
            "text/html": [
              "<div><iframe src=\"https://cb3f72207fb3c40ce0.gradio.live\" width=\"100%\" height=\"500\" allow=\"autoplay; camera; microphone; clipboard-read; clipboard-write;\" frameborder=\"0\" allowfullscreen></iframe></div>"
            ]
          },
          "metadata": {}
        },
        {
          "output_type": "execute_result",
          "data": {
            "text/plain": []
          },
          "metadata": {},
          "execution_count": 4
        }
      ],
      "source": [
        "# Install required libraries before running this code in Colab\n",
        "# !pip install gradio openai gtts pydub numpy requests groq openai-whisper\n",
        "# !apt-get install -y ffmpeg\n",
        "\n",
        "import os\n",
        "\n",
        "# Gradio: For creating web UI for the app\n",
        "import gradio as gr\n",
        "\n",
        "# Whisper: OpenAI's speech-to-text (automatic speech recognition) library\n",
        "import whisper\n",
        "\n",
        "# gTTS: Google Text-to-Speech - converts text to spoken audio\n",
        "from gtts import gTTS\n",
        "\n",
        "# Groq: Used for accessing Groq API for LLM responses\n",
        "from groq import Groq, GroqError\n",
        "\n",
        "# Typing: For specifying return types in functions\n",
        "from typing import Tuple, Union\n",
        "\n",
        "# ✅ Load the Whisper model for audio transcription\n",
        "model = whisper.load_model(\"base\")  # 'base' model is light and fast\n",
        "\n",
        "# ✅ Initialize Groq client with your API key\n",
        "api_key = \"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\"  # Replace with your key\n",
        "try:\n",
        "    client = Groq(api_key=api_key)\n",
        "except Exception as e:\n",
        "    raise RuntimeError(f\"Failed to initialize Groq client: {e}\")\n",
        "\n",
        "# ✅ Main function to handle audio → text → AI reply → voice\n",
        "def transcribe_and_respond(audio: str) -> Tuple[str, Union[str, None]]:\n",
        "    try:\n",
        "        # Step 1: Transcribe the audio using Whisper\n",
        "        transcription = model.transcribe(audio)\n",
        "        user_input = transcription['text']\n",
        "\n",
        "        # Step 2: Generate AI response using Groq's LLaMA model\n",
        "        try:\n",
        "            chat_completion = client.chat.completions.create(\n",
        "                messages=[{\"role\": \"user\", \"content\": user_input}],\n",
        "                model=\"llama3-8b-8192\",  # Groq LLaMA 3 model\n",
        "            )\n",
        "            response_text = chat_completion.choices[0].message.content\n",
        "        except GroqError as e:\n",
        "            return f\"Groq API Error: {e}\", None\n",
        "\n",
        "        # Step 3: Convert the response to speech using Google Text-to-Speech\n",
        "        try:\n",
        "            tts = gTTS(response_text)\n",
        "            audio_path = \"response.mp3\"\n",
        "            tts.save(audio_path)\n",
        "        except Exception as tts_error:\n",
        "            return f\"gTTS Error: {tts_error}\", None\n",
        "\n",
        "        return response_text, audio_path\n",
        "\n",
        "    except FileNotFoundError:\n",
        "        return \"Error: Audio file not found.\", None\n",
        "    except whisper.WhisperException as we:\n",
        "        return f\"Whisper Error: {we}\", None\n",
        "    except Exception as e:\n",
        "        return f\"Unexpected Error: {e}\", None\n",
        "\n",
        "# ✅ Gradio UI setup\n",
        "interface = gr.Interface(\n",
        "    fn=transcribe_and_respond,\n",
        "    inputs=gr.Audio(type=\"filepath\", label=\"Upload Audio\"),\n",
        "    outputs=[\n",
        "        gr.Textbox(label=\"Response\"),\n",
        "        gr.Audio(label=\"Voice Response\")\n",
        "    ],\n",
        "    live=True\n",
        ")\n",
        "\n",
        "# ✅ Start the app\n",
        "interface.launch()\n"
      ]
    }
  ]
}